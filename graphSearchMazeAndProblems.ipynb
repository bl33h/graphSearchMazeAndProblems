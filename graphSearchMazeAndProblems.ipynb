{
 "cells": [
  {
   "cell_type": "markdown",
   "metadata": {},
   "source": [
    "# Laboratorio No. 5\n",
    "- Ricardo Méndez 21289\n",
    "- Sara Echeverría 21371\n",
    "- Francisco Castillo 21562\n",
    "- Melissa Pérez 21385\n",
    "\n",
    "Enlace al repositorio: [https://github.com/bl33h/graphSearchMazeAndProblems]"
   ]
  },
  {
   "cell_type": "markdown",
   "metadata": {},
   "source": [
    "# Task 1 - GraphSearch\n",
    "### Construir un programa que reciba como entrada una pics cuadrada que representa un laberinto (en formato png o bmp). Con dicha pics, deberá dibujar en pantalla la solución al mismo. Además, deberá considerar las siguientes restricciones:\n",
    "- Las dimensiones de entrada podrán variar entre ejecuciones (pero siempre será una pics cuadrada)\n",
    "- Las áreas blancas representan caminos libres\n",
    "- Las áreas negras representan walls sobre las cuales no se puede pasar\n",
    "- Las áreas verdes representan la finishL (goalTest positivos) (pueden ser varios)\n",
    "- El área roja representa el punto de startS (solo podrá haber uno)"
   ]
  },
  {
   "cell_type": "markdown",
   "metadata": {},
   "source": [
    "# Task 1.1 - Discretización de la imagen"
   ]
  },
  {
   "cell_type": "code",
   "execution_count": 15,
   "metadata": {},
   "outputs": [],
   "source": [
    "from PIL import Image\n",
    "import cv2 as cv\n",
    "\n",
    "# open the image\n",
    "pic = Image.open('mazePics/4.bmp')\n",
    "\n",
    "# pixelate the image\n",
    "def pixelate(file, size, obj):\n",
    "    mazeC = cv.imread(file)\n",
    "    mazeC = cv.resize(mazeC, size)\n",
    "    cv.imwrite(obj, mazeC)\n",
    "    pic = Image.open(obj)\n",
    "    return pic\n",
    "\n",
    "# save the pixelated image in the dMazePics folder\n",
    "maze = pixelate(\"mazePics/1.bmp\", (80, 80), \"dMazePics/d1.bmp\") # 80 x 80 pixels"
   ]
  },
  {
   "cell_type": "code",
   "execution_count": 22,
   "metadata": {},
   "outputs": [
    {
     "name": "stdout",
     "output_type": "stream",
     "text": [
      "[<PIL.Image.Image image mode=RGB size=8x8 at 0x1B0B63DCFA0>, <PIL.Image.Image image mode=RGB size=8x8 at 0x1B0B7B6C880>, <PIL.Image.Image image mode=RGB size=8x8 at 0x1B0B7C2BB50>, <PIL.Image.Image image mode=RGB size=8x8 at 0x1B0B63DC940>, <PIL.Image.Image image mode=RGB size=8x8 at 0x1B0B63DCF40>, <PIL.Image.Image image mode=RGB size=8x8 at 0x1B0B63DC910>, <PIL.Image.Image image mode=RGB size=8x8 at 0x1B0D73FB040>, <PIL.Image.Image image mode=RGB size=8x8 at 0x1B0D73FB460>, <PIL.Image.Image image mode=RGB size=8x8 at 0x1B0D73FB880>, <PIL.Image.Image image mode=RGB size=8x8 at 0x1B0D73FBA60>]\n",
      "[<PIL.Image.Image image mode=RGB size=8x8 at 0x1B0D73FB7F0>, <PIL.Image.Image image mode=RGB size=8x8 at 0x1B0D73FB070>, <PIL.Image.Image image mode=RGB size=8x8 at 0x1B0D73FBDC0>, <PIL.Image.Image image mode=RGB size=8x8 at 0x1B0D73FB2B0>, <PIL.Image.Image image mode=RGB size=8x8 at 0x1B0D73FBDF0>, <PIL.Image.Image image mode=RGB size=8x8 at 0x1B0D73FBC40>, <PIL.Image.Image image mode=RGB size=8x8 at 0x1B0D73FB310>, <PIL.Image.Image image mode=RGB size=8x8 at 0x1B0D73FB970>, <PIL.Image.Image image mode=RGB size=8x8 at 0x1B0D73FB9A0>, <PIL.Image.Image image mode=RGB size=8x8 at 0x1B0D73FBCA0>]\n",
      "[<PIL.Image.Image image mode=RGB size=8x8 at 0x1B0D73FBD30>, <PIL.Image.Image image mode=RGB size=8x8 at 0x1B0D73FB130>, <PIL.Image.Image image mode=RGB size=8x8 at 0x1B0D73FBB80>, <PIL.Image.Image image mode=RGB size=8x8 at 0x1B0D73FB550>, <PIL.Image.Image image mode=RGB size=8x8 at 0x1B0D73FB790>, <PIL.Image.Image image mode=RGB size=8x8 at 0x1B0D73FBA90>, <PIL.Image.Image image mode=RGB size=8x8 at 0x1B0D73FB1F0>, <PIL.Image.Image image mode=RGB size=8x8 at 0x1B0D73FB5E0>, <PIL.Image.Image image mode=RGB size=8x8 at 0x1B0D73FB340>, <PIL.Image.Image image mode=RGB size=8x8 at 0x1B0D73FB9D0>]\n",
      "[<PIL.Image.Image image mode=RGB size=8x8 at 0x1B0D73FB6D0>, <PIL.Image.Image image mode=RGB size=8x8 at 0x1B0D73FB430>, <PIL.Image.Image image mode=RGB size=8x8 at 0x1B0D73FB0D0>, <PIL.Image.Image image mode=RGB size=8x8 at 0x1B0D73FBB20>, <PIL.Image.Image image mode=RGB size=8x8 at 0x1B0D73FBF10>, <PIL.Image.Image image mode=RGB size=8x8 at 0x1B0B63D0CA0>, <PIL.Image.Image image mode=RGB size=8x8 at 0x1B0B7C2B0D0>, <PIL.Image.Image image mode=RGB size=8x8 at 0x1B0B7BF8F40>, <PIL.Image.Image image mode=RGB size=8x8 at 0x1B0B7BF8D00>, <PIL.Image.Image image mode=RGB size=8x8 at 0x1B0B7BF8280>]\n",
      "[<PIL.Image.Image image mode=RGB size=8x8 at 0x1B0B7BF8C40>, <PIL.Image.Image image mode=RGB size=8x8 at 0x1B0D73A98B0>, <PIL.Image.Image image mode=RGB size=8x8 at 0x1B0D73A9610>, <PIL.Image.Image image mode=RGB size=8x8 at 0x1B0D73A9E20>, <PIL.Image.Image image mode=RGB size=8x8 at 0x1B0D73A97F0>, <PIL.Image.Image image mode=RGB size=8x8 at 0x1B0D73A9130>, <PIL.Image.Image image mode=RGB size=8x8 at 0x1B0D73A9040>, <PIL.Image.Image image mode=RGB size=8x8 at 0x1B0D73A9310>, <PIL.Image.Image image mode=RGB size=8x8 at 0x1B0D73A9C70>, <PIL.Image.Image image mode=RGB size=8x8 at 0x1B0D73A9EE0>]\n",
      "[<PIL.Image.Image image mode=RGB size=8x8 at 0x1B0D73A9B20>, <PIL.Image.Image image mode=RGB size=8x8 at 0x1B0D73A9D00>, <PIL.Image.Image image mode=RGB size=8x8 at 0x1B0D73A9FA0>, <PIL.Image.Image image mode=RGB size=8x8 at 0x1B0D73A9A00>, <PIL.Image.Image image mode=RGB size=8x8 at 0x1B0D73A99A0>, <PIL.Image.Image image mode=RGB size=8x8 at 0x1B0D73A9D90>, <PIL.Image.Image image mode=RGB size=8x8 at 0x1B0D73A9A30>, <PIL.Image.Image image mode=RGB size=8x8 at 0x1B0D73A9AC0>, <PIL.Image.Image image mode=RGB size=8x8 at 0x1B0D73A9F70>, <PIL.Image.Image image mode=RGB size=8x8 at 0x1B0D73A9370>]\n",
      "[<PIL.Image.Image image mode=RGB size=8x8 at 0x1B0D73A92E0>, <PIL.Image.Image image mode=RGB size=8x8 at 0x1B0D73A9550>, <PIL.Image.Image image mode=RGB size=8x8 at 0x1B0D73A9640>, <PIL.Image.Image image mode=RGB size=8x8 at 0x1B0D73A9070>, <PIL.Image.Image image mode=RGB size=8x8 at 0x1B0D73A9D30>, <PIL.Image.Image image mode=RGB size=8x8 at 0x1B0D73A9DC0>, <PIL.Image.Image image mode=RGB size=8x8 at 0x1B0D73A9BB0>, <PIL.Image.Image image mode=RGB size=8x8 at 0x1B0D73A9850>, <PIL.Image.Image image mode=RGB size=8x8 at 0x1B0D73A90D0>, <PIL.Image.Image image mode=RGB size=8x8 at 0x1B0D73A9730>]\n",
      "[<PIL.Image.Image image mode=RGB size=8x8 at 0x1B0D73A9CD0>, <PIL.Image.Image image mode=RGB size=8x8 at 0x1B0D73A9940>, <PIL.Image.Image image mode=RGB size=8x8 at 0x1B0D73A9AF0>, <PIL.Image.Image image mode=RGB size=8x8 at 0x1B0D73A9EB0>, <PIL.Image.Image image mode=RGB size=8x8 at 0x1B0D73A9700>, <PIL.Image.Image image mode=RGB size=8x8 at 0x1B0D73A9190>, <PIL.Image.Image image mode=RGB size=8x8 at 0x1B0D73A9F10>, <PIL.Image.Image image mode=RGB size=8x8 at 0x1B0D73A9A90>, <PIL.Image.Image image mode=RGB size=8x8 at 0x1B0D73A9340>, <PIL.Image.Image image mode=RGB size=8x8 at 0x1B0D73A93D0>]\n",
      "[<PIL.Image.Image image mode=RGB size=8x8 at 0x1B0D73A9CA0>, <PIL.Image.Image image mode=RGB size=8x8 at 0x1B0D73A9880>, <PIL.Image.Image image mode=RGB size=8x8 at 0x1B0D73A9DF0>, <PIL.Image.Image image mode=RGB size=8x8 at 0x1B0D73A9C40>, <PIL.Image.Image image mode=RGB size=8x8 at 0x1B0D73A9220>, <PIL.Image.Image image mode=RGB size=8x8 at 0x1B0D73A9B80>, <PIL.Image.Image image mode=RGB size=8x8 at 0x1B0D73A9970>, <PIL.Image.Image image mode=RGB size=8x8 at 0x1B0D73A97C0>, <PIL.Image.Image image mode=RGB size=8x8 at 0x1B0D73A91C0>, <PIL.Image.Image image mode=RGB size=8x8 at 0x1B0D73A9910>]\n",
      "[<PIL.Image.Image image mode=RGB size=8x8 at 0x1B0D73A9F40>, <PIL.Image.Image image mode=RGB size=8x8 at 0x1B0D73A9460>, <PIL.Image.Image image mode=RGB size=8x8 at 0x1B0D73A9E80>, <PIL.Image.Image image mode=RGB size=8x8 at 0x1B0D73A98E0>, <PIL.Image.Image image mode=RGB size=8x8 at 0x1B0D73A9250>, <PIL.Image.Image image mode=RGB size=8x8 at 0x1B0D73A9580>, <PIL.Image.Image image mode=RGB size=8x8 at 0x1B0D73A9430>, <PIL.Image.Image image mode=RGB size=8x8 at 0x1B0D73A95B0>, <PIL.Image.Image image mode=RGB size=8x8 at 0x1B0D73A96A0>, <PIL.Image.Image image mode=RGB size=8x8 at 0x1B0D73A92B0>]\n"
     ]
    }
   ],
   "source": [
    "fragments = []\n",
    "for i in range(0, 80, 8):\n",
    "    for j in range(0, 80, 8):\n",
    "        # Obtener el fragmento de 8x8\n",
    "        fragment = maze.crop((j, i, j + 8, i + 8))\n",
    "        fragments.append(fragment)\n",
    "\n",
    "# Crear una matriz 10x10 con las pequeñas imágenes de 8x8\n",
    "matrix = [fragments[i:i+10] for i in range(0, 100, 10)]\n"
   ]
  },
  {
   "cell_type": "code",
   "execution_count": 24,
   "metadata": {},
   "outputs": [
    {
     "ename": "TypeError",
     "evalue": "'BmpImageFile' object is not iterable",
     "output_type": "error",
     "traceback": [
      "\u001b[1;31m---------------------------------------------------------------------------\u001b[0m",
      "\u001b[1;31mTypeError\u001b[0m                                 Traceback (most recent call last)",
      "Cell \u001b[1;32mIn[24], line 10\u001b[0m\n\u001b[0;32m      6\u001b[0m         pixel_matrix \u001b[38;5;241m=\u001b[39m [pixel_list[i:i\u001b[38;5;241m+\u001b[39m\u001b[38;5;241m8\u001b[39m] \u001b[38;5;28;01mfor\u001b[39;00m i \u001b[38;5;129;01min\u001b[39;00m \u001b[38;5;28mrange\u001b[39m(\u001b[38;5;241m0\u001b[39m, \u001b[38;5;241m64\u001b[39m, \u001b[38;5;241m8\u001b[39m)]\n\u001b[0;32m      7\u001b[0m         maze_matrix[r][c] \u001b[38;5;241m=\u001b[39m pixel_matrix\n\u001b[1;32m---> 10\u001b[0m \u001b[38;5;28;01mfor\u001b[39;00m row \u001b[38;5;129;01min\u001b[39;00m maze:\n\u001b[0;32m     11\u001b[0m     \u001b[38;5;28mprint\u001b[39m(row)\n",
      "\u001b[1;31mTypeError\u001b[0m: 'BmpImageFile' object is not iterable"
     ]
    }
   ],
   "source": [
    "maze_matrix = [[0 for _ in range(10)] for _ in range(10)]\n",
    "for r in range(10):\n",
    "    for c in range(10):\n",
    "        fragment = matrix[r][c]\n",
    "        pixel_list = list(fragment.getdata())\n",
    "        pixel_matrix = [pixel_list[i:i+8] for i in range(0, 64, 8)]\n",
    "        maze_matrix[r][c] = pixel_matrix\n",
    "\n",
    "\n",
    "for row in maze_matrix:\n",
    "    print(row)\n"
   ]
  },
  {
   "cell_type": "markdown",
   "metadata": {},
   "source": [
    "# Task 1.2 - Framework de Problemas\n",
    "### Use una interfaz genérica (o clase abstracta) que sirva para representar el framework para definir el problema formal. La implementación de la interfaz para este proyecto deberá recibir como parámetro de construcción la matriz obtenida en el Task 1.1, y con esta deberá deducir las demás funciones del framework (actions(s), stepCost(s,a,s’), etcétera). Debe utilizar efectivamente los conceptos del paradigma de POO"
   ]
  },
  {
   "cell_type": "code",
   "execution_count": null,
   "metadata": {},
   "outputs": [],
   "source": [
    "from abc import ABC, abstractmethod\n",
    "\n",
    "class graphSearch(ABC):\n",
    "    @abstractmethod\n",
    "    def convert_matrix(self):\n",
    "        \n"
   ]
  },
  {
   "cell_type": "markdown",
   "metadata": {},
   "source": [
    "# Task 1.3 - Graph-Search\n",
    "### Deberá construir el algoritmo genérico (familia= de graphSearch. Este recibirá de parámetro una instancia del framework de problemas. Sobre esta familia genérica, implemente los siguientes algoritmos:\n",
    "- Breadth First Search (BFS)\n",
    "- Depth First Search (DFS)\n",
    "- A*: escoja dos heurísticas distintas, y justifique su selección.\n"
   ]
  },
  {
   "cell_type": "markdown",
   "metadata": {},
   "source": [
    "# Task 1.4 - Construcción de Salida\n",
    "### Resuelva el laberinto de entrada, y muestre en pantalla gráficamente el camino encontrado. Su representación visual se basará en la matriz discreta, no en la pics original."
   ]
  }
 ],
 "metadata": {
  "kernelspec": {
   "display_name": ".venv",
   "language": "python",
   "name": "python3"
  },
  "language_info": {
   "codemirror_mode": {
    "name": "ipython",
    "version": 3
   },
   "file_extension": ".py",
   "mimetype": "text/x-python",
   "name": "python",
   "nbconvert_exporter": "python",
   "pygments_lexer": "ipython3",
   "version": "3.9.13"
  }
 },
 "nbformat": 4,
 "nbformat_minor": 2
}
