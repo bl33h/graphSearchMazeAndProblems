{
 "cells": [
  {
   "cell_type": "markdown",
   "metadata": {},
   "source": [
    "# Laboratorio No. 5\n",
    "- Ricardo Méndez 21289\n",
    "- Sara Echeverría 21371\n",
    "- Francisco Castillo 21562\n",
    "- Melissa Pérez 21385\n",
    "\n",
    "Enlace al repositorio: [https://github.com/bl33h/graphSearchMazeAndProblems]"
   ]
  },
  {
   "cell_type": "markdown",
   "metadata": {},
   "source": [
    "# Task 1 - GraphSearch\n",
    "### Construir un programa que reciba como entrada una pics cuadrada que representa un laberinto (en formato png o bmp). Con dicha pics, deberá dibujar en pantalla la solución al mismo. Además, deberá considerar las siguientes restricciones:\n",
    "- Las dimensiones de entrada podrán variar entre ejecuciones (pero siempre será una pics cuadrada)\n",
    "- Las áreas blancas representan caminos libres\n",
    "- Las áreas negras representan walls sobre las cuales no se puede pasar\n",
    "- Las áreas verdes representan la finishL (goalTest positivos) (pueden ser varios)\n",
    "- El área roja representa el punto de startS (solo podrá haber uno)"
   ]
  },
  {
   "cell_type": "markdown",
   "metadata": {},
   "source": [
    "# Task 1.1 - Discretización de la imagen"
   ]
  },
  {
   "cell_type": "code",
   "execution_count": 13,
   "metadata": {},
   "outputs": [],
   "source": [
    "from PIL import Image\n",
    "import cv2 as cv\n",
    "\n",
    "# open the image\n",
    "image = Image.open('mazePics/1.bmp')\n",
    "\n",
    "# pixelate the image\n",
    "def pixelate(file, size, obj):\n",
    "    mazeC = cv.imread(file)\n",
    "    mazeC = cv.resize(mazeC, size)\n",
    "    cv.imwrite(obj, mazeC)\n",
    "    image = Image.open(obj)\n",
    "    return image\n",
    "\n",
    "# save the pixelated image in the dMazePics folder\n",
    "maze = pixelate(\"mazePics/1.bmp\", (80, 80), \"dMazePics/d1.bmp\") # 80 x 80 pixels"
   ]
  },
  {
   "cell_type": "markdown",
   "metadata": {},
   "source": [
    "# Task 1.2 - Framework de Problemas\n",
    "### Use una interfaz genérica (o clase abstracta) que sirva para representar el framework para definir el problema formal. La implementación de la interfaz para este proyecto deberá recibir como parámetro de construcción la matriz obtenida en el Task 1.1, y con esta deberá deducir las demás funciones del framework (actions(s), stepCost(s,a,s’), etcétera). Debe utilizar efectivamente los conceptos del paradigma de POO"
   ]
  },
  {
   "cell_type": "markdown",
   "metadata": {},
   "source": [
    "# Task 1.3 - Graph-Search\n",
    "### Deberá construir el algoritmo genérico (familia= de graphSearch. Este recibirá de parámetro una instancia del framework de problemas. Sobre esta familia genérica, implemente los siguientes algoritmos:\n",
    "- Breadth First Search (BFS)\n",
    "- Depth First Search (DFS)\n",
    "- A*: escoja dos heurísticas distintas, y justifique su selección.\n"
   ]
  },
  {
   "cell_type": "markdown",
   "metadata": {},
   "source": [
    "# Task 1.4 - Construcción de Salida\n",
    "### Resuelva el laberinto de entrada, y muestre en pantalla gráficamente el camino encontrado. Su representación visual se basará en la matriz discreta, no en la pics original."
   ]
  }
 ],
 "metadata": {
  "kernelspec": {
   "display_name": "myenv",
   "language": "python",
   "name": "myenv"
  },
  "language_info": {
   "codemirror_mode": {
    "name": "ipython",
    "version": 3
   },
   "file_extension": ".py",
   "mimetype": "text/x-python",
   "name": "python",
   "nbconvert_exporter": "python",
   "pygments_lexer": "ipython3",
   "version": "3.9.13"
  }
 },
 "nbformat": 4,
 "nbformat_minor": 2
}
